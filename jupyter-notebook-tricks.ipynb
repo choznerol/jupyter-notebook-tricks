{
 "cells": [
  {
   "cell_type": "markdown",
   "metadata": {},
   "source": [
    "### jupyter notebook實用快捷鍵：\n",
    "\n",
    "<pre>\n",
    "cmd + shift + P  顯示所有指令和快捷鍵\n",
    "shift + enter    執行目前的cell\n",
    "enter            切換到編輯模式（藍色cell外框）\n",
    "esc              跳出編輯模式（綠色cell外框）\n",
    "esc, double d    刪除這個cell\n",
    "esc, a           往上插入一個cell\n",
    "esc, b           往下插入一個cell\n",
    "esc, m           將目前cell改為Markdown\n",
    "</pre>"
   ]
  },
  {
   "cell_type": "markdown",
   "metadata": {},
   "source": [
    "### 開啟ipython console，可用<code>whos</code>指令檢查所有變數"
   ]
  },
  {
   "cell_type": "code",
   "execution_count": 1,
   "metadata": {
    "collapsed": true
   },
   "outputs": [],
   "source": [
    "%qtconsole"
   ]
  },
  {
   "cell_type": "markdown",
   "metadata": {},
   "source": [
    "### Print出tensor的內容"
   ]
  },
  {
   "cell_type": "code",
   "execution_count": 4,
   "metadata": {
    "collapsed": false
   },
   "outputs": [
    {
     "name": "stdout",
     "output_type": "stream",
     "text": [
      "[[-0.05391058  0.08315045 -0.13529134]\n",
      " [-0.23896462 -0.26369727 -0.21258667]\n",
      " [-0.08623524 -0.25418624 -0.14715655]\n",
      " [-0.03482413 -0.00730048 -0.11344711]\n",
      " [-0.13682854 -0.06836341 -0.03585137]\n",
      " [-0.1620221  -0.15014869 -0.14201401]\n",
      " [-0.15404423 -0.12774941 -0.0852775 ]]\n"
     ]
    }
   ],
   "source": [
    "import tensorflow as tf\n",
    "\n",
    "myTensor = tf.truncated_normal([7, 3], -0.1, 0.1)\n",
    "with tf.Session():\n",
    "    print(myTensor.eval())"
   ]
  },
  {
   "cell_type": "markdown",
   "metadata": {},
   "source": [
    "### 使用Pickle在檔案間分享巨大資料（以dictionary為例）"
   ]
  },
  {
   "cell_type": "code",
   "execution_count": 9,
   "metadata": {
    "collapsed": false
   },
   "outputs": [
    {
     "name": "stdout",
     "output_type": "stream",
     "text": [
      "{'a': 'apple', 'b': 'banana'}\n"
     ]
    }
   ],
   "source": [
    "# 輸出pickle檔至./目錄\n",
    "# /file_a.py\n",
    "import pickle\n",
    "myDict = {'a':'apple','b':'banana'}\n",
    "pickle.dump( myDict, open( \"./myDict.p\", \"wb\" ) )\n",
    "\n",
    "\n",
    "# 讀入./目錄的pickle檔\n",
    "# /file_b.py \n",
    "import pickle\n",
    "myDict = pickle.load( open( \"./myDict.p\", \"rb\" ) )\n",
    "print(myDict)"
   ]
  },
  {
   "cell_type": "code",
   "execution_count": null,
   "metadata": {
    "collapsed": true
   },
   "outputs": [],
   "source": []
  }
 ],
 "metadata": {
  "anaconda-cloud": {},
  "kernelspec": {
   "display_name": "Python [default]",
   "language": "python",
   "name": "python3"
  },
  "language_info": {
   "codemirror_mode": {
    "name": "ipython",
    "version": 3
   },
   "file_extension": ".py",
   "mimetype": "text/x-python",
   "name": "python",
   "nbconvert_exporter": "python",
   "pygments_lexer": "ipython3",
   "version": "3.5.2"
  }
 },
 "nbformat": 4,
 "nbformat_minor": 1
}
